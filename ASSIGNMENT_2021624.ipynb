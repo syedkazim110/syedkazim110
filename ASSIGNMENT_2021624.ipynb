{
 "cells": [
  {
   "cell_type": "code",
   "execution_count": 7,
   "id": "9631d02b",
   "metadata": {},
   "outputs": [],
   "source": [
    "from binarytree import build"
   ]
  },
  {
   "cell_type": "code",
   "execution_count": 8,
   "id": "a6947b5c",
   "metadata": {},
   "outputs": [],
   "source": [
    "from binarytree import Node"
   ]
  },
  {
   "cell_type": "code",
   "execution_count": 26,
   "id": "345073d1",
   "metadata": {},
   "outputs": [
    {
     "name": "stdout",
     "output_type": "stream",
     "text": [
      "\n",
      "  ______32___\n",
      " /           \\\n",
      "1            _40__________________\n",
      " \\          /                     \\\n",
      "  20       37                  ____73___\n",
      "    \\                         /         \\\n",
      "     22                     _62         _91\n",
      "                           /   \\       /\n",
      "                      ____81    66    84\n",
      "                     /\n",
      "                   _46\n",
      "                  /   \\\n",
      "                 45    50\n",
      "\n"
     ]
    }
   ],
   "source": [
    "root = Node(32)\n",
    "root.left = Node(1)\n",
    "root.right = Node(40)\n",
    "root.left.right = Node(20)\n",
    "root.left.right.right = Node(22)\n",
    "root.right.left = Node(37)\n",
    "root.right.right = Node(73)\n",
    "root.right.right.left = Node(62)\n",
    "root.right.right.right = Node(91)\n",
    "root.right.right.left.left = Node(81)\n",
    "root.right.right.left.right = Node(66)\n",
    "root.right.right.right.left = Node(84)\n",
    "root.right.right.left.left.left = Node(46)\n",
    "root.right.right.left.left.left.left = Node(45)\n",
    "root.right.right.left.left.left.right = Node(50)\n",
    "\n",
    "print(root)"
   ]
  },
  {
   "cell_type": "code",
   "execution_count": 28,
   "id": "4db65681",
   "metadata": {},
   "outputs": [],
   "source": [
    "from anytree import Node, RenderTree"
   ]
  },
  {
   "cell_type": "code",
   "execution_count": 41,
   "id": "5d11a79f",
   "metadata": {},
   "outputs": [
    {
     "name": "stdout",
     "output_type": "stream",
     "text": [
      "32\n",
      "├── 1\n",
      "│   └── 20\n",
      "│       └── 22\n",
      "└── 40\n",
      "    ├── 37\n",
      "    └── 73\n",
      "        ├── 62\n",
      "        └── 91\n",
      "            ├── 84\n",
      "            └── 81\n"
     ]
    }
   ],
   "source": [
    "a = Node(32)\n",
    "b = Node(1,parent = a)\n",
    "c = Node(40,parent = a)\n",
    "d = Node(20,parent = b)\n",
    "e = Node(22,parent = d)\n",
    "f = Node(37,parent = c)\n",
    "g = Node(73,parent =c)\n",
    "h = Node(62,parent = g)\n",
    "i = Node(91,parent = g)\n",
    "j = Node(84 , parent = i)\n",
    "k = Node(81 , parent = i)\n",
    "\n",
    "for pre, fill, node in RenderTree(a):\n",
    "    print(\"%s%s\" % (pre, node.name))"
   ]
  },
  {
   "cell_type": "code",
   "execution_count": 42,
   "id": "85b327be",
   "metadata": {},
   "outputs": [],
   "source": [
    "from treelib import Node, Tree"
   ]
  },
  {
   "cell_type": "code",
   "execution_count": 47,
   "id": "71d84f18",
   "metadata": {},
   "outputs": [],
   "source": [
    "tree = Tree()"
   ]
  },
  {
   "cell_type": "code",
   "execution_count": 54,
   "id": "b67a5965",
   "metadata": {},
   "outputs": [
    {
     "name": "stdout",
     "output_type": "stream",
     "text": [
      "32\n",
      "├── 1\n",
      "│   └── 20\n",
      "│       └── 22\n",
      "└── 40\n",
      "    └── 37\n",
      "\n"
     ]
    }
   ],
   "source": [
    "tree = Tree()\n",
    "tree.create_node(32,'a')\n",
    "tree.create_node(1,'b','a')\n",
    "tree.create_node(40,'c','a')\n",
    "tree.create_node(20,'d','b')\n",
    "tree.create_node(22,'e','d')\n",
    "tree.create_node(37,'f','c')\n",
    "tree.show()"
   ]
  },
  {
   "cell_type": "code",
   "execution_count": 55,
   "id": "f66f74c1",
   "metadata": {},
   "outputs": [],
   "source": [
    "from collections import deque\n",
    "\n",
    "def bfs(graph, start):\n",
    "    # Create a queue for BFS\n",
    "    queue = deque([start])\n",
    "\n",
    "    # Mark the starting node as visited\n",
    "    visited = set([start])\n",
    "\n",
    "    while queue:\n",
    "        # Dequeue a vertex from the queue\n",
    "        vertex = queue.popleft()\n",
    "        print(vertex, end=\" \")\n",
    "\n",
    "        # Get all adjacent vertices of the dequeued vertex\n",
    "        for neighbor in graph[vertex]:\n",
    "            # If neighbor is not visited, add it to the queue and mark it as visited\n",
    "            if neighbor not in visited:\n",
    "                visited.add(neighbor)\n",
    "                queue.append(neighbor)\n"
   ]
  },
  {
   "cell_type": "code",
   "execution_count": 56,
   "id": "c0af0d43",
   "metadata": {},
   "outputs": [],
   "source": [
    "graph = {\n",
    "    0: [1, 2],\n",
    "    1: [2],\n",
    "    2: [0, 3],\n",
    "    3: [3]\n",
    "}"
   ]
  },
  {
   "cell_type": "code",
   "execution_count": 57,
   "id": "7848abbf",
   "metadata": {},
   "outputs": [
    {
     "name": "stdout",
     "output_type": "stream",
     "text": [
      "2 0 3 1 "
     ]
    }
   ],
   "source": [
    "bfs(graph,2)"
   ]
  },
  {
   "cell_type": "code",
   "execution_count": 58,
   "id": "2ebfa483",
   "metadata": {},
   "outputs": [],
   "source": [
    "def dfs(graph, start, visited=None):\n",
    "    if visited is None:\n",
    "        visited = set()\n",
    "\n",
    "    visited.add(start)\n",
    "    print(start, end=\" \")\n",
    "\n",
    "    for neighbor in graph[start]:\n",
    "        if neighbor not in visited:\n",
    "            dfs(graph, neighbor, visited)"
   ]
  },
  {
   "cell_type": "code",
   "execution_count": 59,
   "id": "a0cf128f",
   "metadata": {},
   "outputs": [
    {
     "name": "stdout",
     "output_type": "stream",
     "text": [
      "2 0 1 3 "
     ]
    }
   ],
   "source": [
    "dfs(graph,2)"
   ]
  },
  {
   "cell_type": "code",
   "execution_count": 2,
   "id": "cac59da1",
   "metadata": {},
   "outputs": [],
   "source": [
    "import random\n",
    "ranges = [1000, 10000, 80000, 200000, 1000000]\n",
    "sets = []\n",
    "for r in ranges:\n",
    "    # Make sure each set has at least 220 nodes\n",
    "    set_len = max(r, 220)\n",
    "    nums = random.sample(range(1, r*100000), set_len)\n",
    "    sets.append(nums)\n",
    "\n"
   ]
  },
  {
   "cell_type": "code",
   "execution_count": 3,
   "id": "96a0e4eb",
   "metadata": {},
   "outputs": [],
   "source": [
    "class Node:\n",
    "    def __init__(self, value, children=[]):\n",
    "        self.value = value\n",
    "        self.children = children\n",
    "\n",
    "    def add_child(self, child):\n",
    "        self.children.append(child)"
   ]
  },
  {
   "cell_type": "code",
   "execution_count": 4,
   "id": "b2309086",
   "metadata": {},
   "outputs": [],
   "source": [
    "import time\n",
    "from collections import deque\n",
    "def bfs(root, goal_value):\n",
    "    visited = set()\n",
    "    queue = deque([(root, [root.value])])\n",
    "    while queue:\n",
    "        node, path = queue.popleft()\n",
    "        if node.value == goal_value:\n",
    "            return path\n",
    "        if node not in visited:\n",
    "            visited.add(node)\n",
    "            for child in node.children:\n",
    "                if child not in visited:\n",
    "                    queue.append((child, path + [child.value]))\n",
    "    return None"
   ]
  },
  {
   "cell_type": "code",
   "execution_count": 5,
   "id": "060b287e",
   "metadata": {},
   "outputs": [],
   "source": [
    "def dfs(node, goal_value, visited=set(), path=[]):\n",
    "    if node.value == goal_value:\n",
    "        return path + [node.value]\n",
    "    visited.add(node)\n",
    "    for child in node.children:\n",
    "        if child not in visited:\n",
    "            result = dfs(child, goal_value, visited, path + [node.value])\n",
    "            if result:\n",
    "                return result\n",
    "    return None"
   ]
  },
  {
   "cell_type": "code",
   "execution_count": 6,
   "id": "258b1363",
   "metadata": {},
   "outputs": [],
   "source": [
    "def build_tree(nums):\n",
    "    # Create a root node with the first number in the list\n",
    "    root = Node(nums[0])\n",
    "    # Create nodes for the remaining numbers and add them as children of their parent nodes\n",
    "    for i in range(1, len(nums)):\n",
    "        node = Node(nums[i])\n",
    "        parent_index = (i - 1) // 2\n",
    "        parent = get_node_by_index(root, parent_index)\n",
    "        parent.add_child(node)\n",
    "    return root"
   ]
  },
  {
   "cell_type": "code",
   "execution_count": 7,
   "id": "ba59d150",
   "metadata": {},
   "outputs": [],
   "source": [
    "def get_node_by_index(node, index):\n",
    "    if index == 0:\n",
    "        return node\n",
    "    for child in node.children:\n",
    "        if index < len(child.children) + 1:\n",
    "            return get_node_by_index(child, index - 1)\n",
    "        else:\n",
    "            index -= len(child.children) + 1\n",
    "    return None"
   ]
  },
  {
   "cell_type": "code",
   "execution_count": null,
   "id": "0e9e5734",
   "metadata": {},
   "outputs": [
    {
     "name": "stdout",
     "output_type": "stream",
     "text": [
      "Set 1 with 1000 nodes:\n",
      "BFS path to node 75551257: [3691485, 75551257]\n",
      "BFS execution time: 0.776950 seconds\n",
      "Set 2 with 10000 nodes:\n"
     ]
    }
   ],
   "source": [
    "goal_index = -220\n",
    "for i, nums in enumerate(sets):\n",
    "    print(f\"Set {i+1} with {len(nums)} nodes:\")\n",
    "    root = build_tree(nums)\n",
    "    goal_node_value = nums[goal_index]\n",
    "    \n",
    "    start_time = time.time()\n",
    "    path_to_goal = bfs(root, goal_node_value)\n",
    "    end_time = time.time()\n",
    "    if path_to_goal:\n",
    "        print(f\"BFS path to node {goal_node_value}: {path_to_goal}\")\n",
    "        print(f\"BFS execution time: {end_time - start_time:.6f} seconds\")\n",
    "    else:\n",
    "        print(f\"Node {goal_node_value} not found in tree using BFS.\")\n",
    "    \n",
    "    start_time = time.time()\n",
    "    path_to_goal = dfs(root, goal_node_value)\n",
    "    end_time = time"
   ]
  },
  {
   "cell_type": "code",
   "execution_count": null,
   "id": "b0c9348f",
   "metadata": {},
   "outputs": [],
   "source": [
    "import random as r\n",
    "n = 1000000\n",
    "l = []\n",
    "for i in range(n):\n",
    "    c = True\n",
    "    while(c):\n",
    "        x = r.randint(0,n*1000)\n",
    "        if x in l:\n",
    "            continue\n",
    "        else:\n",
    "            l.append(x)\n",
    "            c = False"
   ]
  },
  {
   "cell_type": "code",
   "execution_count": 48,
   "id": "f516b354",
   "metadata": {},
   "outputs": [],
   "source": [
    "class TreeNode:\n",
    "    def __init__(self, val=0, left=None, right=None):\n",
    "        self.val = val\n",
    "        self.left = left\n",
    "        self.right = right\n",
    "\n",
    "def insert(root, val):\n",
    "    if not root:\n",
    "        return TreeNode(val)\n",
    "    if val < root.val:\n",
    "        root.left = insert(root.left, val)\n",
    "    else:\n",
    "        root.right = insert(root.right, val)\n",
    "    return root\n",
    "\n",
    "def generate_bst(nums):\n",
    "    root = None\n",
    "    for num in nums:\n",
    "        root = insert(root, num)\n",
    "    return root\n"
   ]
  },
  {
   "cell_type": "code",
   "execution_count": 61,
   "id": "8e1f7a26",
   "metadata": {},
   "outputs": [],
   "source": [
    "r = generate_bst(l)"
   ]
  },
  {
   "cell_type": "code",
   "execution_count": 85,
   "id": "3d5a4a5c",
   "metadata": {},
   "outputs": [
    {
     "name": "stdout",
     "output_type": "stream",
     "text": [
      "22542118\n",
      "996458\n",
      "298508\n",
      "265143\n",
      "34782\n",
      "637\n",
      "6227\n",
      "0.001994609832763672 s\n"
     ]
    }
   ],
   "source": [
    "\n",
    "def dfs(root,goal):\n",
    "    print(root.val)\n",
    "    if goal == root.val:\n",
    "        return \n",
    "    if root.left is not None:\n",
    "        return dfs(root.left,goal)\n",
    "    if root.right is not None:\n",
    "        return dfs(root.right,goal)\n",
    "import time\n",
    "s = time.time()\n",
    "dfs(r,6227)\n",
    "e = time.time()\n",
    "print(e-s,'s')"
   ]
  },
  {
   "cell_type": "code",
   "execution_count": 39,
   "id": "5014a2ee",
   "metadata": {},
   "outputs": [],
   "source": [
    "from collections import deque\n",
    "\n",
    "def bfs(root,goal):\n",
    "    if not root:\n",
    "        return []\n",
    "    queue = deque([root])\n",
    "    res = []\n",
    "    while queue:\n",
    "        level_size = len(queue)\n",
    "        level = []\n",
    "        for i in range(level_size):\n",
    "            node = queue.popleft()\n",
    "            level.append(node.val)\n",
    "            if node.val == goal:\n",
    "                return\n",
    "            if node.left:\n",
    "                queue.append(node.left)\n",
    "            if node.right:\n",
    "                queue.append(node.right)\n",
    "        res.append(level)\n",
    "    return res"
   ]
  },
  {
   "cell_type": "code",
   "execution_count": 96,
   "id": "0fb8f274",
   "metadata": {},
   "outputs": [
    {
     "name": "stdout",
     "output_type": "stream",
     "text": [
      "0.0009982585906982422 s\n"
     ]
    }
   ],
   "source": [
    "s = time.time()\n",
    "bfs(r,6227)\n",
    "e = time.time()\n",
    "print(e-s,'s')"
   ]
  },
  {
   "cell_type": "code",
   "execution_count": 13,
   "id": "c23b755d",
   "metadata": {},
   "outputs": [],
   "source": [
    "graph = {\n",
    "    'A': {'B': 2, 'C': 1},\n",
    "    'B': {'D': 5, 'E': 3},\n",
    "    'C': {'F': 4},\n",
    "    'D': {},\n",
    "    'E': {'G': 1},\n",
    "    'F': {'G': 2},\n",
    "    'G': {}\n",
    "}"
   ]
  },
  {
   "cell_type": "code",
   "execution_count": 10,
   "id": "1d607f8c",
   "metadata": {},
   "outputs": [],
   "source": [
    "import heapq\n",
    "\n",
    "\n",
    "def ucs(graph, start, goal):\n",
    "    # Keep track of visited nodes, their costs, and their parents\n",
    "    visited = {start: (0, None)}\n",
    "    # Use a priority queue to store nodes with the smallest cost first\n",
    "    frontier = [(0, start)]\n",
    "    while frontier:\n",
    "        # Pop the node with the smallest cost so far\n",
    "        (cost, current) = heapq.heappop(frontier)\n",
    "        # If we've reached the goal, construct and return the path\n",
    "        if current == goal:\n",
    "            path = []\n",
    "            while current is not None:\n",
    "                path.append(current)\n",
    "                current = visited[current][1]\n",
    "            path.reverse()\n",
    "            return (cost, path)\n",
    "        # Otherwise, add neighbors to the frontier if we haven't seen them before\n",
    "        for neighbor, neighbor_cost in graph[current].items():\n",
    "            new_cost = visited[current][0] + neighbor_cost\n",
    "            if neighbor not in visited or new_cost < visited[neighbor][0]:\n",
    "                visited[neighbor] = (new_cost, current)\n",
    "                heapq.heappush(frontier, (new_cost, neighbor))\n",
    "    # If we've explored the entire graph and haven't found the goal, return infinity and an empty path\n",
    "    return (float('inf'), [])\n"
   ]
  },
  {
   "cell_type": "code",
   "execution_count": 14,
   "id": "740e2c03",
   "metadata": {},
   "outputs": [
    {
     "data": {
      "text/plain": [
       "(6, ['A', 'B', 'E', 'G'])"
      ]
     },
     "execution_count": 14,
     "metadata": {},
     "output_type": "execute_result"
    }
   ],
   "source": [
    " ucs(graph, 'A', 'G')\n",
    "\n"
   ]
  },
  {
   "cell_type": "code",
   "execution_count": 5,
   "id": "93391e06",
   "metadata": {},
   "outputs": [
    {
     "data": {
      "text/plain": [
       "[(1, 2), (2, 3)]"
      ]
     },
     "execution_count": 5,
     "metadata": {},
     "output_type": "execute_result"
    }
   ],
   "source": [
    "graph = {\n",
    "    0: [(1,2), (2,3)],\n",
    "    1: [(2,3)],\n",
    "    2: [(0,3), (3,1)],\n",
    "    3: [(3,0)]\n",
    "}\n",
    "graph.get(0)"
   ]
  },
  {
   "cell_type": "code",
   "execution_count": 6,
   "id": "f93c2519",
   "metadata": {},
   "outputs": [],
   "source": [
    "def build_dcit(lis):\n",
    "    di  = {}\n",
    "\n",
    "    for i in lis:\n",
    "        name = i[0]\n",
    "        cost = i[1]\n",
    "        di[name] = cost\n",
    "    return di"
   ]
  },
  {
   "cell_type": "code",
   "execution_count": 8,
   "id": "7aa43a9e",
   "metadata": {},
   "outputs": [
    {
     "data": {
      "text/plain": [
       "{0: {1: 2, 2: 3}, 1: {2: 3}, 2: {0: 3, 3: 1}, 3: {3: 0}}"
      ]
     },
     "execution_count": 8,
     "metadata": {},
     "output_type": "execute_result"
    }
   ],
   "source": [
    "gra = {}\n",
    "for i in graph.keys():\n",
    "        gra.update({i:build_dcit(graph.get(i))})\n",
    "gra"
   ]
  },
  {
   "cell_type": "code",
   "execution_count": 15,
   "id": "37b22659",
   "metadata": {},
   "outputs": [],
   "source": [
    "graph2 = {\n",
    "    'Arad': {'Zerind': 75, 'Sibiu': 140, 'Timisoara': 118},\n",
    "    'Zerind': {'Arad': 75, 'Oradea': 71},\n",
    "    'Oradea': {'Zerind': 71, 'Sibiu': 151},\n",
    "    'Sibiu': {'Arad': 140, 'Oradea': 151, 'Fagaras': 99, 'Rimnicu Vilcea': 80},\n",
    "    'Timisoara': {'Arad': 118, 'Lugoj': 111},\n",
    "    'Lugoj': {'Timisoara': 111, 'Mehadia': 70},\n",
    "    'Mehadia': {'Lugoj': 70, 'Drobeta': 75},\n",
    "    'Drobeta': {'Mehadia': 75, 'Craiova': 120},\n",
    "    'Craiova': {'Drobeta': 120, 'Rimnicu Vilcea': 146, 'Pitesti': 138},\n",
    "    'Rimnicu Vilcea': {'Sibiu': 80, 'Craiova': 146, 'Pitesti': 97},\n",
    "    'Fagaras': {'Sibiu': 99, 'Bucharest': 211},\n",
    "    'Pitesti': {'Rimnicu Vilcea': 97, 'Craiova': 138, 'Bucharest': 101},\n",
    "    'Bucharest': {'Fagaras': 211, 'Pitesti': 101, 'Giurgiu': 90, 'Urziceni': 85},\n",
    "    'Giurgiu': {'Bucharest': 90},\n",
    "    'Urziceni': {'Bucharest': 85, 'Vaslui': 142, 'Hirsova': 98},\n",
    "    'Hirsova': {'Urziceni': 98, 'Eforie': 86},\n",
    "    'Eforie': {'Hirsova': 86},\n",
    "    'Vaslui': {'Urziceni': 142, 'Iasi': 92},\n",
    "    'Iasi': {'Vaslui': 92, 'Neamt': 87},\n",
    "    'Neamt': {'Iasi': 87}\n",
    "}\n"
   ]
  },
  {
   "cell_type": "code",
   "execution_count": 16,
   "id": "981062e2",
   "metadata": {},
   "outputs": [
    {
     "data": {
      "text/plain": [
       "(418, ['Arad', 'Sibiu', 'Rimnicu Vilcea', 'Pitesti', 'Bucharest'])"
      ]
     },
     "execution_count": 16,
     "metadata": {},
     "output_type": "execute_result"
    }
   ],
   "source": [
    "ucs(graph2,'Arad','Bucharest')"
   ]
  },
  {
   "cell_type": "code",
   "execution_count": 18,
   "id": "49be68a9",
   "metadata": {},
   "outputs": [
    {
     "name": "stdout",
     "output_type": "stream",
     "text": [
      "Requirement already satisfied: networkx in c:\\users\\line\\appdata\\local\\programs\\python\\python310\\lib\\site-packages (3.0)\n",
      "Note: you may need to restart the kernel to use updated packages.\n",
      "Collecting networkx\n",
      "  Downloading networkx-3.0-py3-none-any.whl (2.0 MB)\n",
      "     ---------------------------------------- 0.0/2.0 MB ? eta -:--:--\n",
      "      --------------------------------------- 0.0/2.0 MB ? eta -:--:--\n",
      "     - -------------------------------------- 0.1/2.0 MB 1.1 MB/s eta 0:00:02\n",
      "     -- ------------------------------------- 0.1/2.0 MB 1.1 MB/s eta 0:00:02\n",
      "     --- ------------------------------------ 0.2/2.0 MB 1.1 MB/s eta 0:00:02\n",
      "     ------ --------------------------------- 0.3/2.0 MB 1.3 MB/s eta 0:00:02\n",
      "     -------- ------------------------------- 0.5/2.0 MB 1.7 MB/s eta 0:00:01\n",
      "     ------------ --------------------------- 0.6/2.0 MB 2.0 MB/s eta 0:00:01\n",
      "     -------------- ------------------------- 0.7/2.0 MB 1.8 MB/s eta 0:00:01\n",
      "     ------------------ --------------------- 0.9/2.0 MB 2.0 MB/s eta 0:00:01\n",
      "     ------------------- -------------------- 1.0/2.0 MB 2.0 MB/s eta 0:00:01\n",
      "     ----------------------- ---------------- 1.2/2.0 MB 2.2 MB/s eta 0:00:01\n",
      "     ---------------------------- ----------- 1.4/2.0 MB 2.4 MB/s eta 0:00:01\n",
      "     ----------------------------- ---------- 1.5/2.0 MB 2.4 MB/s eta 0:00:01\n",
      "     ------------------------------ --------- 1.6/2.0 MB 2.3 MB/s eta 0:00:01\n",
      "     ---------------------------------- ----- 1.8/2.0 MB 2.3 MB/s eta 0:00:01\n",
      "     ---------------------------------------  2.0/2.0 MB 2.5 MB/s eta 0:00:01\n",
      "     ---------------------------------------- 2.0/2.0 MB 2.5 MB/s eta 0:00:00\n",
      "Installing collected packages: networkx\n",
      "Successfully installed networkx-3.0\n"
     ]
    }
   ],
   "source": [
    "pip install networkx"
   ]
  },
  {
   "cell_type": "code",
   "execution_count": 20,
   "id": "19b7c3a6",
   "metadata": {},
   "outputs": [
    {
     "data": {
      "image/png": "[encoded data removed]",
      "text/plain": [
       "<Figure size 640x480 with 1 Axes>"
      ]
     },
     "metadata": {},
     "output_type": "display_data"
    }
   ],
   "source": [
    "import networkx as nx\n",
    "import matplotlib.pyplot as plt\n",
    "\n",
    "# Create a networkx graph from the adjacency matrix\n",
    "G = nx.Graph(graph)\n",
    "\n",
    "# Draw the graph using a circular layout\n",
    "pos = nx.circular_layout(G)\n",
    "nx.draw(G, pos, with_labels=True)\n",
    "\n",
    "# Draw edge labels\n",
    "edge_labels = nx.get_edge_attributes(G, 'weight')\n",
    "nx.draw_networkx_edge_labels(G, pos, edge_labels=edge_labels)\n",
    "\n",
    "# Show the graph\n",
    "plt.show()\n"
   ]
  },
  {
   "cell_type": "code",
   "execution_count": 21,
   "id": "254b4ac0",
   "metadata": {},
   "outputs": [],
   "source": [
    "import networkx as nx\n",
    "import matplotlib.pyplot as plt\n"
   ]
  },
  {
   "cell_type": "code",
   "execution_count": 23,
   "id": "5f693379",
   "metadata": {},
   "outputs": [],
   "source": [
    "G = nx.Graph()\n",
    "G.add_node(\"Arad\")\n",
    "G.add_node(\"Sibiu\")\n",
    "G.add_node(\"Timisoara\")\n",
    "G.add_node(\"Zerind\")\n",
    "G.add_node(\"Oradea\")\n",
    "G.add_node(\"Lugoj\")\n",
    "G.add_node(\"Mehadia\")\n",
    "G.add_node(\"Drobeta\")\n",
    "G.add_node(\"Craiova\")\n",
    "G.add_node(\"Pitesti\")\n",
    "G.add_node(\"Rimnicu Vilcea\")\n",
    "G.add_node(\"Fagaras\")\n",
    "G.add_node(\"Bucharest\")\n",
    "G.add_node(\"Giurgiu\")\n"
   ]
  },
  {
   "cell_type": "code",
   "execution_count": 24,
   "id": "c2ce0c56",
   "metadata": {},
   "outputs": [],
   "source": [
    "G.add_edge(\"Arad\", \"Sibiu\", weight=140)\n",
    "G.add_edge(\"Arad\", \"Zerind\", weight=75)\n",
    "G.add_edge(\"Arad\", \"Timisoara\", weight=118)\n",
    "G.add_edge(\"Zerind\", \"Oradea\", weight=71)\n",
    "G.add_edge(\"Sibiu\", \"Oradea\", weight=151)\n",
    "G.add_edge(\"Sibiu\", \"Fagaras\", weight=99)\n",
    "G.add_edge(\"Sibiu\", \"Rimnicu Vilcea\", weight=80)\n",
    "G.add_edge(\"Timisoara\", \"Lugoj\", weight=111)\n",
    "G.add_edge(\"Lugoj\", \"Mehadia\", weight=70)\n",
    "G.add_edge(\"Mehadia\", \"Drobeta\", weight=75)\n",
    "G.add_edge(\"Drobeta\", \"Craiova\", weight=120)\n",
    "G.add_edge(\"Craiova\", \"Rimnicu Vilcea\", weight=146)\n",
    "G.add_edge(\"Craiova\", \"Pitesti\", weight=138)\n",
    "G.add_edge(\"Pitesti\", \"Rimnicu Vilcea\", weight=97)\n",
    "G.add_edge(\"Pitesti\", \"Bucharest\", weight=101)\n",
    "G.add_edge(\"Bucharest\", \"Giurgiu\", weight=90)\n",
    "G.add_edge(\"Bucharest\", \"Fagaras\", weight=211)"
   ]
  },
  {
   "cell_type": "code",
   "execution_count": 25,
   "id": "d29274bb",
   "metadata": {},
   "outputs": [
    {
     "data": {
      "image/png": "[encoded data removed]",
      "text/plain": [
       "<Figure size 640x480 with 1 Axes>"
      ]
     },
     "metadata": {},
     "output_type": "display_data"
    }
   ],
   "source": [
    "pos = nx.spring_layout(G)\n",
    "nx.draw(G, pos, with_labels=True)\n",
    "edge_labels = nx.get_edge_attributes(G,'weight')\n",
    "nx.draw_networkx_edge_labels(G, pos, edge_labels=edge_labels, font_color='red')\n",
    "plt.show()\n"
   ]
  },
  {
   "cell_type": "code",
   "execution_count": 39,
   "id": "f7feace6",
   "metadata": {},
   "outputs": [
    {
     "name": "stdout",
     "output_type": "stream",
     "text": [
      "[1, 3, 5, 0, 2, 4]\n"
     ]
    }
   ],
   "source": [
    "from queue import Queue\n",
    "\n",
    "def is_valid(state):\n",
    "    for i in range(len(state)):\n",
    "        for j in range(i+1, len(state)):\n",
    "            if state[i] == state[j] or abs(state[i]-state[j]) == j-i:\n",
    "                return False\n",
    "    return True\n",
    "\n",
    "def n_queens_bfs(n):\n",
    "    q = Queue()\n",
    "    q.put([])\n",
    "    while not q.empty():\n",
    "        state = q.get()\n",
    "        if len(state) == n:\n",
    "            if is_valid(state):\n",
    "                return state\n",
    "        else:\n",
    "            for i in range(n):\n",
    "                new_state = state + [i]\n",
    "                if is_valid(new_state):\n",
    "                    q.put(new_state)\n",
    "\n",
    "print(n_queens_bfs(6))"
   ]
  },
  {
   "cell_type": "code",
   "execution_count": null,
   "id": "3977a32d",
   "metadata": {},
   "outputs": [],
   "source": []
  },
  {
   "cell_type": "code",
   "execution_count": null,
   "id": "0d881327",
   "metadata": {},
   "outputs": [],
   "source": []
  }
 ],
 "metadata": {
  "kernelspec": {
   "display_name": "Python 3 (ipykernel)",
   "language": "python",
   "name": "python3"
  },
  "language_info": {
   "codemirror_mode": {
    "name": "ipython",
    "version": 3
   },
   "file_extension": ".py",
   "mimetype": "text/x-python",
   "name": "python",
   "nbconvert_exporter": "python",
   "pygments_lexer": "ipython3",
   "version": "3.10.10"
  }
 },
 "nbformat": 4,
 "nbformat_minor": 5
}
